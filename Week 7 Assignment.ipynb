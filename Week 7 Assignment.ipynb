{
 "cells": [
  {
   "cell_type": "markdown",
   "metadata": {},
   "source": [
    "## Import pandas, numpy"
   ]
  },
  {
   "cell_type": "code",
   "execution_count": 84,
   "metadata": {},
   "outputs": [],
   "source": [
    "import numpy as np\n",
    "import pandas as pd"
   ]
  },
  {
   "cell_type": "markdown",
   "metadata": {},
   "source": [
    "## Read the .csv file and display data"
   ]
  },
  {
   "cell_type": "code",
   "execution_count": 85,
   "metadata": {
    "scrolled": true
   },
   "outputs": [
    {
     "data": {
      "text/html": [
       "<div>\n",
       "<style scoped>\n",
       "    .dataframe tbody tr th:only-of-type {\n",
       "        vertical-align: middle;\n",
       "    }\n",
       "\n",
       "    .dataframe tbody tr th {\n",
       "        vertical-align: top;\n",
       "    }\n",
       "\n",
       "    .dataframe thead th {\n",
       "        text-align: right;\n",
       "    }\n",
       "</style>\n",
       "<table border=\"1\" class=\"dataframe\">\n",
       "  <thead>\n",
       "    <tr style=\"text-align: right;\">\n",
       "      <th></th>\n",
       "      <th>Titanic</th>\n",
       "      <th>Fast and Furious</th>\n",
       "      <th>Toys Story</th>\n",
       "      <th>American Sniper</th>\n",
       "      <th>Lord of the Rings</th>\n",
       "      <th>I am Legend</th>\n",
       "    </tr>\n",
       "  </thead>\n",
       "  <tbody>\n",
       "    <tr>\n",
       "      <th>Jonathan</th>\n",
       "      <td>5.0</td>\n",
       "      <td>4.0</td>\n",
       "      <td>5</td>\n",
       "      <td>5.0</td>\n",
       "      <td>NaN</td>\n",
       "      <td>5.0</td>\n",
       "    </tr>\n",
       "    <tr>\n",
       "      <th>Nancy</th>\n",
       "      <td>5.0</td>\n",
       "      <td>3.5</td>\n",
       "      <td>5</td>\n",
       "      <td>NaN</td>\n",
       "      <td>NaN</td>\n",
       "      <td>NaN</td>\n",
       "    </tr>\n",
       "    <tr>\n",
       "      <th>Jose</th>\n",
       "      <td>4.5</td>\n",
       "      <td>3.5</td>\n",
       "      <td>5</td>\n",
       "      <td>4.0</td>\n",
       "      <td>NaN</td>\n",
       "      <td>4.0</td>\n",
       "    </tr>\n",
       "    <tr>\n",
       "      <th>Jennifer</th>\n",
       "      <td>3.0</td>\n",
       "      <td>4.0</td>\n",
       "      <td>5</td>\n",
       "      <td>5.0</td>\n",
       "      <td>1.0</td>\n",
       "      <td>5.0</td>\n",
       "    </tr>\n",
       "    <tr>\n",
       "      <th>Ivonne</th>\n",
       "      <td>5.0</td>\n",
       "      <td>4.0</td>\n",
       "      <td>5</td>\n",
       "      <td>4.0</td>\n",
       "      <td>1.0</td>\n",
       "      <td>5.0</td>\n",
       "    </tr>\n",
       "  </tbody>\n",
       "</table>\n",
       "</div>"
      ],
      "text/plain": [
       "          Titanic  Fast and Furious  Toys Story  American Sniper  \\\n",
       "Jonathan      5.0               4.0           5              5.0   \n",
       "Nancy         5.0               3.5           5              NaN   \n",
       "Jose          4.5               3.5           5              4.0   \n",
       "Jennifer      3.0               4.0           5              5.0   \n",
       "Ivonne        5.0               4.0           5              4.0   \n",
       "\n",
       "          Lord of the Rings  I am Legend  \n",
       "Jonathan                NaN          5.0  \n",
       "Nancy                   NaN          NaN  \n",
       "Jose                    NaN          4.0  \n",
       "Jennifer                1.0          5.0  \n",
       "Ivonne                  1.0          5.0  "
      ]
     },
     "execution_count": 85,
     "metadata": {},
     "output_type": "execute_result"
    }
   ],
   "source": [
    "Movie_Ratings = pd.read_csv('/Users/jonathan/Documents/Ratings.csv', index_col = 0)\n",
    "Movie_Ratings"
   ]
  },
  {
   "cell_type": "markdown",
   "metadata": {},
   "source": [
    "## Tidy up the data by replacing NaN value to 0.0"
   ]
  },
  {
   "cell_type": "code",
   "execution_count": 86,
   "metadata": {},
   "outputs": [
    {
     "data": {
      "text/html": [
       "<div>\n",
       "<style scoped>\n",
       "    .dataframe tbody tr th:only-of-type {\n",
       "        vertical-align: middle;\n",
       "    }\n",
       "\n",
       "    .dataframe tbody tr th {\n",
       "        vertical-align: top;\n",
       "    }\n",
       "\n",
       "    .dataframe thead th {\n",
       "        text-align: right;\n",
       "    }\n",
       "</style>\n",
       "<table border=\"1\" class=\"dataframe\">\n",
       "  <thead>\n",
       "    <tr style=\"text-align: right;\">\n",
       "      <th></th>\n",
       "      <th>Titanic</th>\n",
       "      <th>Fast and Furious</th>\n",
       "      <th>Toys Story</th>\n",
       "      <th>American Sniper</th>\n",
       "      <th>Lord of the Rings</th>\n",
       "      <th>I am Legend</th>\n",
       "    </tr>\n",
       "  </thead>\n",
       "  <tbody>\n",
       "    <tr>\n",
       "      <th>Jonathan</th>\n",
       "      <td>5.0</td>\n",
       "      <td>4.0</td>\n",
       "      <td>5</td>\n",
       "      <td>5.0</td>\n",
       "      <td>0.0</td>\n",
       "      <td>5.0</td>\n",
       "    </tr>\n",
       "    <tr>\n",
       "      <th>Nancy</th>\n",
       "      <td>5.0</td>\n",
       "      <td>3.5</td>\n",
       "      <td>5</td>\n",
       "      <td>0.0</td>\n",
       "      <td>0.0</td>\n",
       "      <td>0.0</td>\n",
       "    </tr>\n",
       "    <tr>\n",
       "      <th>Jose</th>\n",
       "      <td>4.5</td>\n",
       "      <td>3.5</td>\n",
       "      <td>5</td>\n",
       "      <td>4.0</td>\n",
       "      <td>0.0</td>\n",
       "      <td>4.0</td>\n",
       "    </tr>\n",
       "    <tr>\n",
       "      <th>Jennifer</th>\n",
       "      <td>3.0</td>\n",
       "      <td>4.0</td>\n",
       "      <td>5</td>\n",
       "      <td>5.0</td>\n",
       "      <td>1.0</td>\n",
       "      <td>5.0</td>\n",
       "    </tr>\n",
       "    <tr>\n",
       "      <th>Ivonne</th>\n",
       "      <td>5.0</td>\n",
       "      <td>4.0</td>\n",
       "      <td>5</td>\n",
       "      <td>4.0</td>\n",
       "      <td>1.0</td>\n",
       "      <td>5.0</td>\n",
       "    </tr>\n",
       "  </tbody>\n",
       "</table>\n",
       "</div>"
      ],
      "text/plain": [
       "          Titanic  Fast and Furious  Toys Story  American Sniper  \\\n",
       "Jonathan      5.0               4.0           5              5.0   \n",
       "Nancy         5.0               3.5           5              0.0   \n",
       "Jose          4.5               3.5           5              4.0   \n",
       "Jennifer      3.0               4.0           5              5.0   \n",
       "Ivonne        5.0               4.0           5              4.0   \n",
       "\n",
       "          Lord of the Rings  I am Legend  \n",
       "Jonathan                0.0          5.0  \n",
       "Nancy                   0.0          0.0  \n",
       "Jose                    0.0          4.0  \n",
       "Jennifer                1.0          5.0  \n",
       "Ivonne                  1.0          5.0  "
      ]
     },
     "execution_count": 86,
     "metadata": {},
     "output_type": "execute_result"
    }
   ],
   "source": [
    "Movie_Ratings.fillna(value=0, inplace=True)\n",
    "Movie_Ratings"
   ]
  },
  {
   "cell_type": "markdown",
   "metadata": {},
   "source": [
    "## Display average rating of each reviewer."
   ]
  },
  {
   "cell_type": "code",
   "execution_count": 87,
   "metadata": {},
   "outputs": [
    {
     "data": {
      "text/plain": [
       "Titanic              4.5\n",
       "Fast and Furious     3.8\n",
       "Toys Story           5.0\n",
       "American Sniper      3.6\n",
       "Lord of the Rings    0.4\n",
       "I am Legend          3.8\n",
       "dtype: float64"
      ]
     },
     "execution_count": 87,
     "metadata": {},
     "output_type": "execute_result"
    }
   ],
   "source": [
    "Movie_Ratings.mean().round(2)"
   ]
  },
  {
   "cell_type": "markdown",
   "metadata": {},
   "source": [
    "## Normalized ratings"
   ]
  },
  {
   "cell_type": "code",
   "execution_count": 88,
   "metadata": {
    "scrolled": true
   },
   "outputs": [
    {
     "data": {
      "text/html": [
       "<div>\n",
       "<style scoped>\n",
       "    .dataframe tbody tr th:only-of-type {\n",
       "        vertical-align: middle;\n",
       "    }\n",
       "\n",
       "    .dataframe tbody tr th {\n",
       "        vertical-align: top;\n",
       "    }\n",
       "\n",
       "    .dataframe thead th {\n",
       "        text-align: right;\n",
       "    }\n",
       "</style>\n",
       "<table border=\"1\" class=\"dataframe\">\n",
       "  <thead>\n",
       "    <tr style=\"text-align: right;\">\n",
       "      <th></th>\n",
       "      <th>Titanic</th>\n",
       "      <th>Fast and Furious</th>\n",
       "      <th>Toys Story</th>\n",
       "      <th>American Sniper</th>\n",
       "      <th>Lord of the Rings</th>\n",
       "      <th>I am Legend</th>\n",
       "    </tr>\n",
       "  </thead>\n",
       "  <tbody>\n",
       "    <tr>\n",
       "      <th>Jonathan</th>\n",
       "      <td>1.00</td>\n",
       "      <td>1.0</td>\n",
       "      <td></td>\n",
       "      <td>1.0</td>\n",
       "      <td>0.0</td>\n",
       "      <td>1.0</td>\n",
       "    </tr>\n",
       "    <tr>\n",
       "      <th>Nancy</th>\n",
       "      <td>1.00</td>\n",
       "      <td>0.0</td>\n",
       "      <td></td>\n",
       "      <td>0.0</td>\n",
       "      <td>0.0</td>\n",
       "      <td>0.0</td>\n",
       "    </tr>\n",
       "    <tr>\n",
       "      <th>Jose</th>\n",
       "      <td>0.75</td>\n",
       "      <td>0.0</td>\n",
       "      <td></td>\n",
       "      <td>0.8</td>\n",
       "      <td>0.0</td>\n",
       "      <td>0.8</td>\n",
       "    </tr>\n",
       "    <tr>\n",
       "      <th>Jennifer</th>\n",
       "      <td>0.00</td>\n",
       "      <td>1.0</td>\n",
       "      <td></td>\n",
       "      <td>1.0</td>\n",
       "      <td>1.0</td>\n",
       "      <td>1.0</td>\n",
       "    </tr>\n",
       "    <tr>\n",
       "      <th>Ivonne</th>\n",
       "      <td>1.00</td>\n",
       "      <td>1.0</td>\n",
       "      <td></td>\n",
       "      <td>0.8</td>\n",
       "      <td>1.0</td>\n",
       "      <td>1.0</td>\n",
       "    </tr>\n",
       "  </tbody>\n",
       "</table>\n",
       "</div>"
      ],
      "text/plain": [
       "          Titanic  Fast and Furious Toys Story  American Sniper  \\\n",
       "Jonathan     1.00               1.0                         1.0   \n",
       "Nancy        1.00               0.0                         0.0   \n",
       "Jose         0.75               0.0                         0.8   \n",
       "Jennifer     0.00               1.0                         1.0   \n",
       "Ivonne       1.00               1.0                         0.8   \n",
       "\n",
       "          Lord of the Rings  I am Legend  \n",
       "Jonathan                0.0          1.0  \n",
       "Nancy                   0.0          0.0  \n",
       "Jose                    0.0          0.8  \n",
       "Jennifer                1.0          1.0  \n",
       "Ivonne                  1.0          1.0  "
      ]
     },
     "execution_count": 88,
     "metadata": {},
     "output_type": "execute_result"
    }
   ],
   "source": [
    "Normalized_Ratings = (Movie_Ratings - Movie_Ratings.min()) / (Movie_Ratings.max() - Movie_Ratings.min())\n",
    "Normalized_Ratings.replace(np.NaN, '', regex=True)"
   ]
  },
  {
   "cell_type": "markdown",
   "metadata": {},
   "source": [
    "## Display average Normalized ratings of each movie"
   ]
  },
  {
   "cell_type": "code",
   "execution_count": 89,
   "metadata": {},
   "outputs": [
    {
     "data": {
      "text/plain": [
       "Titanic              0.75\n",
       "Fast and Furious     0.60\n",
       "Toys Story            NaN\n",
       "American Sniper      0.72\n",
       "Lord of the Rings    0.40\n",
       "I am Legend          0.76\n",
       "dtype: float64"
      ]
     },
     "execution_count": 89,
     "metadata": {},
     "output_type": "execute_result"
    },
    {
     "data": {
      "image/png": "[encoded data removed]",
      "text/plain": [
       "<Figure size 432x288 with 1 Axes>"
      ]
     },
     "metadata": {
      "needs_background": "light"
     },
     "output_type": "display_data"
    }
   ],
   "source": [
    "Normalized_Ratings.mean(axis = 0).plot()\n",
    "Normalized_Ratings.mean(axis = 0)"
   ]
  },
  {
   "cell_type": "markdown",
   "metadata": {},
   "source": [
    "## Display normalized average ratings of reviewers"
   ]
  },
  {
   "cell_type": "code",
   "execution_count": 90,
   "metadata": {},
   "outputs": [
    {
     "data": {
      "text/plain": [
       "Jonathan    0.80\n",
       "Nancy       0.20\n",
       "Jose        0.47\n",
       "Jennifer    0.80\n",
       "Ivonne      0.96\n",
       "dtype: float64"
      ]
     },
     "execution_count": 90,
     "metadata": {},
     "output_type": "execute_result"
    },
    {
     "data": {
      "image/png": "[encoded data removed]",
      "text/plain": [
       "<Figure size 432x288 with 1 Axes>"
      ]
     },
     "metadata": {
      "needs_background": "light"
     },
     "output_type": "display_data"
    }
   ],
   "source": [
    "Normalized_Ratings.mean(axis = 1).plot()\n",
    "Normalized_Ratings.mean(axis = 1)"
   ]
  },
  {
   "cell_type": "markdown",
   "metadata": {},
   "source": [
    "##### An advantage of normalized ratings over actual ratings is it gives users a better scale viewing of \"normal\" data that can be used in plot graphs. A disadvantage of normalized data are the 'null' values. Normalized data creates null values which can become unrealiable data and confusing. The format to normalize data is:\n",
    "## normalized = ( x - x.min() ) / ( x.max() - x.min() )"
   ]
  },
  {
   "cell_type": "markdown",
   "metadata": {},
   "source": [
    "## Extra Credit: Standarized ratings"
   ]
  },
  {
   "cell_type": "code",
   "execution_count": 91,
   "metadata": {},
   "outputs": [
    {
     "data": {
      "text/html": [
       "<div>\n",
       "<style scoped>\n",
       "    .dataframe tbody tr th:only-of-type {\n",
       "        vertical-align: middle;\n",
       "    }\n",
       "\n",
       "    .dataframe tbody tr th {\n",
       "        vertical-align: top;\n",
       "    }\n",
       "\n",
       "    .dataframe thead th {\n",
       "        text-align: right;\n",
       "    }\n",
       "</style>\n",
       "<table border=\"1\" class=\"dataframe\">\n",
       "  <thead>\n",
       "    <tr style=\"text-align: right;\">\n",
       "      <th></th>\n",
       "      <th>Titanic</th>\n",
       "      <th>Fast and Furious</th>\n",
       "      <th>Toys Story</th>\n",
       "      <th>American Sniper</th>\n",
       "      <th>Lord of the Rings</th>\n",
       "      <th>I am Legend</th>\n",
       "    </tr>\n",
       "  </thead>\n",
       "  <tbody>\n",
       "    <tr>\n",
       "      <th>Jonathan</th>\n",
       "      <td>0.577350</td>\n",
       "      <td>0.730297</td>\n",
       "      <td>0.0</td>\n",
       "      <td>0.675140</td>\n",
       "      <td>-0.730297</td>\n",
       "      <td>0.553519</td>\n",
       "    </tr>\n",
       "    <tr>\n",
       "      <th>Nancy</th>\n",
       "      <td>0.577350</td>\n",
       "      <td>-1.095445</td>\n",
       "      <td>0.0</td>\n",
       "      <td>-1.736074</td>\n",
       "      <td>-0.730297</td>\n",
       "      <td>-1.752809</td>\n",
       "    </tr>\n",
       "    <tr>\n",
       "      <th>Jose</th>\n",
       "      <td>0.000000</td>\n",
       "      <td>-1.095445</td>\n",
       "      <td>0.0</td>\n",
       "      <td>0.192897</td>\n",
       "      <td>-0.730297</td>\n",
       "      <td>0.092253</td>\n",
       "    </tr>\n",
       "    <tr>\n",
       "      <th>Jennifer</th>\n",
       "      <td>-1.732051</td>\n",
       "      <td>0.730297</td>\n",
       "      <td>0.0</td>\n",
       "      <td>0.675140</td>\n",
       "      <td>1.095445</td>\n",
       "      <td>0.553519</td>\n",
       "    </tr>\n",
       "    <tr>\n",
       "      <th>Ivonne</th>\n",
       "      <td>0.577350</td>\n",
       "      <td>0.730297</td>\n",
       "      <td>0.0</td>\n",
       "      <td>0.192897</td>\n",
       "      <td>1.095445</td>\n",
       "      <td>0.553519</td>\n",
       "    </tr>\n",
       "  </tbody>\n",
       "</table>\n",
       "</div>"
      ],
      "text/plain": [
       "           Titanic  Fast and Furious  Toys Story  American Sniper  \\\n",
       "Jonathan  0.577350          0.730297         0.0         0.675140   \n",
       "Nancy     0.577350         -1.095445         0.0        -1.736074   \n",
       "Jose      0.000000         -1.095445         0.0         0.192897   \n",
       "Jennifer -1.732051          0.730297         0.0         0.675140   \n",
       "Ivonne    0.577350          0.730297         0.0         0.192897   \n",
       "\n",
       "          Lord of the Rings  I am Legend  \n",
       "Jonathan          -0.730297     0.553519  \n",
       "Nancy             -0.730297    -1.752809  \n",
       "Jose              -0.730297     0.092253  \n",
       "Jennifer           1.095445     0.553519  \n",
       "Ivonne             1.095445     0.553519  "
      ]
     },
     "execution_count": 91,
     "metadata": {},
     "output_type": "execute_result"
    }
   ],
   "source": [
    "standardized_Ratings = (Movie_Ratings - Movie_Ratings.mean())/Movie_Ratings.std()\n",
    "standardized_Ratings\n",
    "standardized_Ratings.replace(np.NaN, 0)"
   ]
  },
  {
   "cell_type": "markdown",
   "metadata": {},
   "source": [
    "# Display average standarized ratings of reviewers"
   ]
  },
  {
   "cell_type": "code",
   "execution_count": 92,
   "metadata": {},
   "outputs": [
    {
     "data": {
      "text/plain": [
       "Jonathan    0.361202\n",
       "Nancy      -0.947455\n",
       "Jose       -0.308118\n",
       "Jennifer    0.264470\n",
       "Ivonne      0.629902\n",
       "dtype: float64"
      ]
     },
     "execution_count": 92,
     "metadata": {},
     "output_type": "execute_result"
    },
    {
     "data": {
      "image/png": "[encoded data removed]",
      "text/plain": [
       "<Figure size 432x288 with 1 Axes>"
      ]
     },
     "metadata": {
      "needs_background": "light"
     },
     "output_type": "display_data"
    }
   ],
   "source": [
    "standardized_Ratings.mean(axis=1).plot()\n",
    "standardized_Ratings.mean(axis=1)"
   ]
  },
  {
   "cell_type": "markdown",
   "metadata": {},
   "source": [
    "## Display average standarized ratings of each movie"
   ]
  },
  {
   "cell_type": "code",
   "execution_count": 93,
   "metadata": {},
   "outputs": [
    {
     "data": {
      "text/plain": [
       "Titanic              2.220446e-17\n",
       "Fast and Furious     5.773160e-16\n",
       "Toys Story                    NaN\n",
       "American Sniper     -8.326673e-17\n",
       "Lord of the Rings    0.000000e+00\n",
       "I am Legend          4.440892e-17\n",
       "dtype: float64"
      ]
     },
     "execution_count": 93,
     "metadata": {},
     "output_type": "execute_result"
    },
    {
     "data": {
      "image/png": "[encoded data removed]",
      "text/plain": [
       "<Figure size 432x288 with 1 Axes>"
      ]
     },
     "metadata": {
      "needs_background": "light"
     },
     "output_type": "display_data"
    }
   ],
   "source": [
    "standardized_Ratings.mean(axis=0).plot()\n",
    "standardized_Ratings.mean(axis=0)"
   ]
  }
 ],
 "metadata": {
  "kernelspec": {
   "display_name": "Python 3",
   "language": "python",
   "name": "python3"
  },
  "language_info": {
   "codemirror_mode": {
    "name": "ipython",
    "version": 3
   },
   "file_extension": ".py",
   "mimetype": "text/x-python",
   "name": "python",
   "nbconvert_exporter": "python",
   "pygments_lexer": "ipython3",
   "version": "3.7.6"
  }
 },
 "nbformat": 4,
 "nbformat_minor": 4
}
